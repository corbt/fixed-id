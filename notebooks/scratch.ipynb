{
    "cells": [
        {
            "cell_type": "code",
            "execution_count": 9,
            "source": [
                "import itertools\n",
                "import math\n",
                "\n",
                "def carmichael(n):\n",
                "  for m in itertools.count(start=1):\n",
                "    valid_m = True\n",
                "    for a in range(1, n):\n",
                "      is_coprime = math.gcd(a, n) == 1\n",
                "      relation_holds = (a ** m) % n == 1\n",
                "\n",
                "      if is_coprime and not relation_holds:\n",
                "        valid_m = False\n",
                "    \n",
                "    if valid_m:\n",
                "      return m\n",
                "print(\"\\n\".join([str([n, carmichael(n)]) for n in range(1, 36)]))\n",
                "# print(carmichael(3233))"
            ],
            "outputs": [
                {
                    "output_type": "stream",
                    "name": "stdout",
                    "text": [
                        "[1, 1]\n",
                        "[2, 1]\n",
                        "[3, 2]\n",
                        "[4, 2]\n",
                        "[5, 4]\n",
                        "[6, 2]\n",
                        "[7, 6]\n",
                        "[8, 2]\n",
                        "[9, 6]\n",
                        "[10, 4]\n",
                        "[11, 10]\n",
                        "[12, 2]\n",
                        "[13, 12]\n",
                        "[14, 6]\n",
                        "[15, 4]\n",
                        "[16, 4]\n",
                        "[17, 16]\n",
                        "[18, 6]\n",
                        "[19, 18]\n",
                        "[20, 4]\n",
                        "[21, 6]\n",
                        "[22, 10]\n",
                        "[23, 22]\n",
                        "[24, 2]\n",
                        "[25, 20]\n",
                        "[26, 12]\n",
                        "[27, 18]\n",
                        "[28, 6]\n",
                        "[29, 28]\n",
                        "[30, 4]\n",
                        "[31, 30]\n",
                        "[32, 8]\n",
                        "[33, 10]\n",
                        "[34, 16]\n",
                        "[35, 12]\n"
                    ]
                }
            ],
            "metadata": {}
        },
        {
            "cell_type": "code",
            "execution_count": 23,
            "source": [],
            "outputs": [
                {
                    "output_type": "execute_result",
                    "data": {
                        "text/plain": [
                            "()"
                        ]
                    },
                    "metadata": {},
                    "execution_count": 23
                }
            ],
            "metadata": {}
        },
        {
            "cell_type": "code",
            "execution_count": null,
            "source": [],
            "outputs": [],
            "metadata": {}
        },
        {
            "cell_type": "code",
            "execution_count": null,
            "source": [],
            "outputs": [],
            "metadata": {}
        },
        {
            "cell_type": "code",
            "execution_count": null,
            "source": [],
            "outputs": [],
            "metadata": {}
        }
    ],
    "metadata": {
        "orig_nbformat": 4,
        "language_info": {
            "name": "python",
            "version": "3.8.3",
            "mimetype": "text/x-python",
            "codemirror_mode": {
                "name": "ipython",
                "version": 3
            },
            "pygments_lexer": "ipython3",
            "nbconvert_exporter": "python",
            "file_extension": ".py"
        },
        "kernelspec": {
            "name": "python3",
            "display_name": "Python 3.8.3 64-bit ('.venv': poetry)"
        },
        "interpreter": {
            "hash": "4734252b7a83c02eeb74816ad9ef24bd0e3123566aa2148a34fa1ad7446fda88"
        }
    },
    "nbformat": 4,
    "nbformat_minor": 2
}