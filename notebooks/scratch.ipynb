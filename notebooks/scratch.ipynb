{
    "cells": [
        {
            "cell_type": "code",
            "execution_count": 26,
            "source": [
                "import itertools\n",
                "import math\n",
                "\n",
                "def carmichael(n):\n",
                "  for m in itertools.count(start=1):\n",
                "    valid_m = True\n",
                "    for a in range(1, n):\n",
                "      is_coprime = math.gcd(a, n) == 1\n",
                "      relation_holds = (a ** m) % n == 1\n",
                "\n",
                "      if is_coprime and not relation_holds:\n",
                "        valid_m = False\n",
                "    \n",
                "    if valid_m:\n",
                "      return m\n",
                "print(\"\\n\".join([str([n, carmichael(n)]) for n in range(1, 36)]))\n",
                "# print(carmichael(3233))"
            ],
            "outputs": [
                {
                    "output_type": "stream",
                    "name": "stdout",
                    "text": [
                        "780\n"
                    ]
                }
            ],
            "metadata": {}
        }
    ],
    "metadata": {
        "orig_nbformat": 4,
        "language_info": {
            "name": "python",
            "version": "3.8.3",
            "mimetype": "text/x-python",
            "codemirror_mode": {
                "name": "ipython",
                "version": 3
            },
            "pygments_lexer": "ipython3",
            "nbconvert_exporter": "python",
            "file_extension": ".py"
        },
        "kernelspec": {
            "name": "python3",
            "display_name": "Python 3.8.3 64-bit ('.venv': poetry)"
        },
        "interpreter": {
            "hash": "4734252b7a83c02eeb74816ad9ef24bd0e3123566aa2148a34fa1ad7446fda88"
        }
    },
    "nbformat": 4,
    "nbformat_minor": 2
}